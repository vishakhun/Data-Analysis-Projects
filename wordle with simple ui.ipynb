{
  "nbformat": 4,
  "nbformat_minor": 0,
  "metadata": {
    "colab": {
      "name": "Copy of Copy of Copy of wordle.ipynb",
      "provenance": [],
      "include_colab_link": true
    },
    "kernelspec": {
      "name": "python3",
      "display_name": "Python 3"
    },
    "language_info": {
      "name": "python"
    }
  },
  "cells": [
    {
      "cell_type": "markdown",
      "metadata": {
        "id": "view-in-github",
        "colab_type": "text"
      },
      "source": [
        "<a href=\"https://colab.research.google.com/github/vishakhun/Data-Analysis-practice/blob/main/wordle%20with%20simple%20ui.ipynb\" target=\"_parent\"><img src=\"https://colab.research.google.com/assets/colab-badge.svg\" alt=\"Open In Colab\"/></a>"
      ]
    },
    {
      "cell_type": "markdown",
      "source": [
        "#Attempt the first word.\n",
        "\n",
        "##Here are the list of words you can use;\n",
        "\n",
        "* louie (vovels)\n",
        "* adieu (vovels)\n",
        "* hunts (most occuring letters)\n",
        "* debts (end letters)\n",
        "* shunt (most occuring letters)\n",
        "\n",
        "##Start filling out the form below, make sure that all fields are empty."
      ],
      "metadata": {
        "id": "AXJdM6Ef3GFh"
      }
    },
    {
      "cell_type": "code",
      "source": [
        "#@title Do you have any character in <b>GREEN</b>? if yes, fill it below, leave it blank otherwise { display-mode: \"form\" }\n",
        "first_letter =  \"s\" #@param [\"\",\"a\", \"b\", \"c\", \"d\", \"d\", \"e\", \"f\", \"g\", \"h\", \"i\", \"j\", \"k\", \"l\", \"m\", \"n\", \"o\", \"p\", \"q\", \"r\", \"s\", \"t\", \"u\", \"v\", \"w\", \"x\", \"y\", \"z\"] {allow-input: true}\n",
        "second_letter = \"p\" #@param [\"\",\"a\", \"b\", \"c\", \"d\", \"d\", \"e\", \"f\", \"g\", \"h\", \"i\", \"j\", \"k\", \"l\", \"m\", \"n\", \"o\", \"p\", \"q\", \"r\", \"s\", \"t\", \"u\", \"v\", \"w\", \"x\", \"y\", \"z\"] {allow-input: true}\n",
        "third_letter =  \"i\" #@param [\"\", \"a\", \"b\", \"c\", \"d\", \"d\", \"e\", \"f\", \"g\", \"h\", \"i\", \"j\", \"k\", \"l\", \"m\", \"n\", \"o\", \"p\", \"q\", \"r\", \"s\", \"t\", \"u\", \"v\", \"w\", \"x\", \"y\", \"z\"] {allow-input: true}\n",
        "fourth_letter = \"\" #@param [\"\",\"a\", \"b\", \"c\", \"d\", \"d\", \"e\", \"f\", \"g\", \"h\", \"i\", \"j\", \"k\", \"l\", \"m\", \"n\", \"o\", \"p\", \"q\", \"r\", \"s\", \"t\", \"u\", \"v\", \"w\", \"x\", \"y\", \"z\"] {allow-input: true}\n",
        "fifth_letter =  \"\" #@param [\"\",\"a\", \"b\", \"c\", \"d\", \"d\", \"e\", \"f\", \"g\", \"h\", \"i\", \"j\", \"k\", \"l\", \"m\", \"n\", \"o\", \"p\", \"q\", \"r\", \"s\", \"t\", \"u\", \"v\", \"w\", \"x\", \"y\", \"z\"]{allow-input: true}"
      ],
      "metadata": {
        "id": "iBJPbzhrf7o6"
      },
      "execution_count": null,
      "outputs": []
    },
    {
      "cell_type": "code",
      "source": [
        "#@title Do you have any character in <b>YELLOW</b>? if yes, fill it below, leave it blank otherwise { display-mode: \"form\" }\n",
        "\n",
        "first_letter_which_is_in_yellow = \"\" #@param [\"\",\"a\", \"b\", \"c\", \"d\", \"d\", \"e\", \"f\", \"g\", \"h\", \"i\", \"j\", \"k\", \"l\", \"m\", \"n\", \"o\", \"p\", \"q\", \"r\", \"s\", \"t\", \"u\", \"v\", \"w\", \"x\", \"y\", \"z\"] {allow-input: true} \n",
        "second_letter_which_is_in_yellow = \"\" #@param [\"\",\"a\", \"b\", \"c\", \"d\", \"d\", \"e\", \"f\", \"g\", \"h\", \"i\", \"j\", \"k\", \"l\", \"m\", \"n\", \"o\", \"p\", \"q\", \"r\", \"s\", \"t\", \"u\", \"v\", \"w\", \"x\", \"y\", \"z\"] {allow-input: true}\n",
        "third_letter_which_is_in_yellow = \"\" #@param [\"\",\"a\", \"b\", \"c\", \"d\", \"d\", \"e\", \"f\", \"g\", \"h\", \"i\", \"j\", \"k\", \"l\", \"m\", \"n\", \"o\", \"p\", \"q\", \"r\", \"s\", \"t\", \"u\", \"v\", \"w\", \"x\", \"y\", \"z\"] {allow-input: true}\n",
        "fourth_letter_which_is_in_yellow = \"\" #@param [\"\",\"a\", \"b\", \"c\", \"d\", \"d\", \"e\", \"f\", \"g\", \"h\", \"i\", \"j\", \"k\", \"l\", \"m\", \"n\", \"o\", \"p\", \"q\", \"r\", \"s\", \"t\", \"u\", \"v\", \"w\", \"x\", \"y\", \"z\"] {allow-input: true}\n",
        "fifth_letter_which_is_in_yellow = \"\" #@param [\"\",\"a\", \"b\", \"c\", \"d\", \"d\", \"e\", \"f\", \"g\", \"h\", \"i\", \"j\", \"k\", \"l\", \"m\", \"n\", \"o\", \"p\", \"q\", \"r\", \"s\", \"t\", \"u\", \"v\", \"w\", \"x\", \"y\", \"z\"] {allow-input: true}"
      ],
      "metadata": {
        "id": "DSGSYDwAJ7bQ"
      },
      "execution_count": null,
      "outputs": []
    },
    {
      "cell_type": "code",
      "source": [
        "#@title Do you have any character in <b>GREY</b>? if yes, fill it below, leave it blank otherwise { display-mode: \"form\" }\n",
        "grey_letter_1 = \"a\" #@param [\"\",\"a\", \"b\", \"c\", \"d\", \"d\", \"e\", \"f\", \"g\", \"h\", \"i\", \"j\", \"k\", \"l\", \"m\", \"n\", \"o\", \"p\", \"q\", \"r\", \"s\", \"t\", \"u\", \"v\", \"w\", \"x\", \"y\", \"z\"] {allow-input: true}\n",
        "grey_letter_2 = \"d\" #@param [\"\",\"a\", \"b\", \"c\", \"d\", \"d\", \"e\", \"f\", \"g\", \"h\", \"i\", \"j\", \"k\", \"l\", \"m\", \"n\", \"o\", \"p\", \"q\", \"r\", \"s\", \"t\", \"u\", \"v\", \"w\", \"x\", \"y\", \"z\"] {allow-input: true}\n",
        "grey_letter_3 = \"e\" #@param [\"\",\"a\", \"b\", \"c\", \"d\", \"d\", \"e\", \"f\", \"g\", \"h\", \"i\", \"j\", \"k\", \"l\", \"m\", \"n\", \"o\", \"p\", \"q\", \"r\", \"s\", \"t\", \"u\", \"v\", \"w\", \"x\", \"y\", \"z\"] {allow-input: true}\n",
        "grey_letter_4 = \"u\" #@param [\"\",\"a\", \"b\", \"c\", \"d\", \"d\", \"e\", \"f\", \"g\", \"h\", \"i\", \"j\", \"k\", \"l\", \"m\", \"n\", \"o\", \"p\", \"q\", \"r\", \"s\", \"t\", \"u\", \"v\", \"w\", \"x\", \"y\", \"z\"] {allow-input: true}\n",
        "grey_letter_5 = \"h\" #@param [\"\",\"a\", \"b\", \"c\", \"d\", \"d\", \"e\", \"f\", \"g\", \"h\", \"i\", \"j\", \"k\", \"l\", \"m\", \"n\", \"o\", \"p\", \"q\", \"r\", \"s\", \"t\", \"u\", \"v\", \"w\", \"x\", \"y\", \"z\"] {allow-input: true}\n",
        "grey_letter_6 = \"n\" #@param [\"\",\"a\", \"b\", \"c\", \"d\", \"d\", \"e\", \"f\", \"g\", \"h\", \"i\", \"j\", \"k\", \"l\", \"m\", \"n\", \"o\", \"p\", \"q\", \"r\", \"s\", \"t\", \"u\", \"v\", \"w\", \"x\", \"y\", \"z\"] {allow-input: true}\n",
        "grey_letter_7 = \"t\" #@param [\"\",\"a\", \"b\", \"c\", \"d\", \"d\", \"e\", \"f\", \"g\", \"h\", \"i\", \"j\", \"k\", \"l\", \"m\", \"n\", \"o\", \"p\", \"q\", \"r\", \"s\", \"t\", \"u\", \"v\", \"w\", \"x\", \"y\", \"z\"] {allow-input: true}\n",
        "grey_letter_8 = \"c\" #@param [\"\",\"a\", \"b\", \"c\", \"d\", \"d\", \"e\", \"f\", \"g\", \"h\", \"i\", \"j\", \"k\", \"l\", \"m\", \"n\", \"o\", \"p\", \"q\", \"r\", \"s\", \"t\", \"u\", \"v\", \"w\", \"x\", \"y\", \"z\"] {allow-input: true}\n",
        "grey_letter_9 = \"y\" #@param [\"\",\"a\", \"b\", \"c\", \"d\", \"d\", \"e\", \"f\", \"g\", \"h\", \"i\", \"j\", \"k\", \"l\", \"m\", \"n\", \"o\", \"p\", \"q\", \"r\", \"s\", \"t\", \"u\", \"v\", \"w\", \"x\", \"y\", \"z\"] {allow-input: true}\n",
        "grey_letter_10 = \"\" #@param [\"\",\"a\", \"b\", \"c\", \"d\", \"d\", \"e\", \"f\", \"g\", \"h\", \"i\", \"j\", \"k\", \"l\", \"m\", \"n\", \"o\", \"p\", \"q\", \"r\", \"s\", \"t\", \"u\", \"v\", \"w\", \"x\", \"y\", \"z\"] {allow-input: true}\n",
        "grey_letter_11 = \"\" #@param [\"\",\"a\", \"b\", \"c\", \"d\", \"d\", \"e\", \"f\", \"g\", \"h\", \"i\", \"j\", \"k\", \"l\", \"m\", \"n\", \"o\", \"p\", \"q\", \"r\", \"s\", \"t\", \"u\", \"v\", \"w\", \"x\", \"y\", \"z\"] {allow-input: true}\n",
        "grey_letter_12 = \"\" #@param [\"\",\"a\", \"b\", \"c\", \"d\", \"d\", \"e\", \"f\", \"g\", \"h\", \"i\", \"j\", \"k\", \"l\", \"m\", \"n\", \"o\", \"p\", \"q\", \"r\", \"s\", \"t\", \"u\", \"v\", \"w\", \"x\", \"y\", \"z\"] {allow-input: true}\n",
        "grey_letter_13 = \"\" #@param [\"\",\"a\", \"b\", \"c\", \"d\", \"d\", \"e\", \"f\", \"g\", \"h\", \"i\", \"j\", \"k\", \"l\", \"m\", \"n\", \"o\", \"p\", \"q\", \"r\", \"s\", \"t\", \"u\", \"v\", \"w\", \"x\", \"y\", \"z\"] {allow-input: true}\n",
        "grey_letter_14 = \"\" #@param [\"\",\"a\", \"b\", \"c\", \"d\", \"d\", \"e\", \"f\", \"g\", \"h\", \"i\", \"j\", \"k\", \"l\", \"m\", \"n\", \"o\", \"p\", \"q\", \"r\", \"s\", \"t\", \"u\", \"v\", \"w\", \"x\", \"y\", \"z\"] {allow-input: true}\n",
        "grey_letter_15 = \"\" #@param [\"\",\"a\", \"b\", \"c\", \"d\", \"d\", \"e\", \"f\", \"g\", \"h\", \"i\", \"j\", \"k\", \"l\", \"m\", \"n\", \"o\", \"p\", \"q\", \"r\", \"s\", \"t\", \"u\", \"v\", \"w\", \"x\", \"y\", \"z\"] {allow-input: true}\n",
        "grey_letter_16 = \"\" #@param [\"\",\"a\", \"b\", \"c\", \"d\", \"d\", \"e\", \"f\", \"g\", \"h\", \"i\", \"j\", \"k\", \"l\", \"m\", \"n\", \"o\", \"p\", \"q\", \"r\", \"s\", \"t\", \"u\", \"v\", \"w\", \"x\", \"y\", \"z\"] {allow-input: true}\n",
        "grey_letter_17 = \"\" #@param [\"\",\"a\", \"b\", \"c\", \"d\", \"d\", \"e\", \"f\", \"g\", \"h\", \"i\", \"j\", \"k\", \"l\", \"m\", \"n\", \"o\", \"p\", \"q\", \"r\", \"s\", \"t\", \"u\", \"v\", \"w\", \"x\", \"y\", \"z\"] {allow-input: true}\n",
        "grey_letter_18 = \"\" #@param [\"\",\"a\", \"b\", \"c\", \"d\", \"d\", \"e\", \"f\", \"g\", \"h\", \"i\", \"j\", \"k\", \"l\", \"m\", \"n\", \"o\", \"p\", \"q\", \"r\", \"s\", \"t\", \"u\", \"v\", \"w\", \"x\", \"y\", \"z\"] {allow-input: true}\n",
        "grey_letter_19 = \"\" #@param [\"\",\"a\", \"b\", \"c\", \"d\", \"d\", \"e\", \"f\", \"g\", \"h\", \"i\", \"j\", \"k\", \"l\", \"m\", \"n\", \"o\", \"p\", \"q\", \"r\", \"s\", \"t\", \"u\", \"v\", \"w\", \"x\", \"y\", \"z\"] {allow-input: true}\n",
        "\n"
      ],
      "metadata": {
        "id": "1xBK2WKLoq0L"
      },
      "execution_count": null,
      "outputs": []
    },
    {
      "cell_type": "markdown",
      "source": [
        "##Code Block"
      ],
      "metadata": {
        "id": "r7DuIPD1JF7F"
      }
    },
    {
      "cell_type": "code",
      "source": [
        "import pandas as pd\n",
        "import re\n",
        "url = \"https://raw.githubusercontent.com/dwyl/english-words/master/words_alpha.txt\"\n",
        "df1 = pd.read_csv(url)\n",
        "df1.columns = [\"word\"]\n",
        "df5 = df1[df1.word.str.len() == 5]"
      ],
      "metadata": {
        "id": "AlrLZrdfUUwK"
      },
      "execution_count": null,
      "outputs": []
    },
    {
      "cell_type": "code",
      "source": [
        "def dot_letter(letter):\n",
        "    if len(letter)>0:\n",
        "      return ((letter))\n",
        "    else:\n",
        "      return ((\".\"))"
      ],
      "metadata": {
        "id": "i7XKG43ahO-G"
      },
      "execution_count": null,
      "outputs": []
    },
    {
      "cell_type": "code",
      "source": [
        "first_letter_1  = dot_letter(first_letter)\n",
        "second_letter_2 = dot_letter(second_letter)\n",
        "third_letter_3  = dot_letter(third_letter)\n",
        "fourth_letter_4 = dot_letter(fourth_letter)\n",
        "fifth_letter_5  = dot_letter(fifth_letter)\n",
        "\n",
        "green_list = (first_letter_1+second_letter_2+third_letter_3+fourth_letter_4+fifth_letter_5)\n",
        "\n",
        "df5_today_green = df5[df5[\"word\"].str.contains(green_list)]"
      ],
      "metadata": {
        "id": "S5yeO7Eghg83"
      },
      "execution_count": null,
      "outputs": []
    },
    {
      "cell_type": "code",
      "source": [
        "yellow_list = [first_letter_which_is_in_yellow, second_letter_which_is_in_yellow, third_letter_which_is_in_yellow, fourth_letter_which_is_in_yellow, fifth_letter_which_is_in_yellow]\n",
        "yellow_list_1 = list(filter(None, yellow_list))\n",
        "yellow_list_2 = '|'.join(yellow_list_1)\n",
        "\n",
        "df5_today_yellow1 = df5_today_green[df5_today_green[\"word\"].str.contains(yellow_list_2)]"
      ],
      "metadata": {
        "id": "tVeIix2ocMAO"
      },
      "execution_count": null,
      "outputs": []
    },
    {
      "cell_type": "code",
      "source": [
        "yli1p = dot_letter(first_letter_which_is_in_yellow)\n",
        "yli2p = dot_letter(second_letter_which_is_in_yellow)\n",
        "yli3p = dot_letter(third_letter_which_is_in_yellow)\n",
        "yli4p = dot_letter(fourth_letter_which_is_in_yellow)\n",
        "yli5p = dot_letter(fifth_letter_which_is_in_yellow)\n",
        "\n",
        "yli1p_1 =  yli1p + \".\" + \".\" + \".\" + \".\"\n",
        "yli2p_2 =  \".\" + yli2p + \".\" + \".\" + \".\"\n",
        "yli3p_3 =  \".\" + \".\" + yli3p + \".\" + \".\"\n",
        "yli4p_4 =  \".\" + \".\" + \".\" + yli4p + \".\"\n",
        "yli5p_5 =  \".\" + \".\" + \".\" + \".\" + yli5p\n",
        "\n",
        "df5_today_yellow = df5_today_yellow1[df5_today_yellow1[\"word\"].str.contains( 'yli1p_1|yli2p_2|yli3p_3|yli4p_4|yli5p_5', regex = True)== False]"
      ],
      "metadata": {
        "id": "7Ur1w8kC8M63"
      },
      "execution_count": null,
      "outputs": []
    },
    {
      "cell_type": "code",
      "source": [
        "grey_list  = [grey_letter_1, grey_letter_2, grey_letter_3, grey_letter_4, grey_letter_5, grey_letter_6, grey_letter_7, grey_letter_8,\n",
        "              grey_letter_9, grey_letter_10, grey_letter_11, grey_letter_12, grey_letter_13, grey_letter_14, grey_letter_15, grey_letter_16, grey_letter_17, grey_letter_18, grey_letter_19, grey_letter_19]\n",
        "grey_list_1 = list(filter(None, grey_list))              \n",
        "grey_list_2 = '|'.join(grey_list_1)\n",
        "\n",
        "df5_today_grey= df5_today_yellow[df5_today_yellow[\"word\"].str.contains(grey_list_2)==False]"
      ],
      "metadata": {
        "id": "goDstvM7J3ZC"
      },
      "execution_count": null,
      "outputs": []
    },
    {
      "cell_type": "markdown",
      "source": [
        "## Predictions"
      ],
      "metadata": {
        "id": "_AuZojEgLgyR"
      }
    },
    {
      "cell_type": "code",
      "source": [
        "#@title \n",
        "print (\"Found\",len(df5_today_grey), \"matching words\")"
      ],
      "metadata": {
        "colab": {
          "base_uri": "https://localhost:8080/"
        },
        "cellView": "form",
        "id": "Fh8whx5MD6sd",
        "outputId": "bda44297-31db-47b5-bfc5-43018de44981"
      },
      "execution_count": null,
      "outputs": [
        {
          "output_type": "stream",
          "name": "stdout",
          "text": [
            "Found 6 matching words\n"
          ]
        }
      ]
    },
    {
      "cell_type": "code",
      "source": [
        "#@title Use this word as the next guess. if this word doesnt make sense run it again or use the list below\n",
        "df5_today_random = df5_today_grey.sample(axis='rows')\n",
        "df5_today_random"
      ],
      "metadata": {
        "colab": {
          "base_uri": "https://localhost:8080/",
          "height": 81
        },
        "cellView": "form",
        "id": "khwecvIFDTlJ",
        "outputId": "db8eb7f0-e7f4-43d2-b212-765e2c6725ea"
      },
      "execution_count": null,
      "outputs": [
        {
          "output_type": "execute_result",
          "data": {
            "text/html": [
              "\n",
              "  <div id=\"df-0d345e6a-7747-4902-b7e0-08615cf3cb3f\">\n",
              "    <div class=\"colab-df-container\">\n",
              "      <div>\n",
              "<style scoped>\n",
              "    .dataframe tbody tr th:only-of-type {\n",
              "        vertical-align: middle;\n",
              "    }\n",
              "\n",
              "    .dataframe tbody tr th {\n",
              "        vertical-align: top;\n",
              "    }\n",
              "\n",
              "    .dataframe thead th {\n",
              "        text-align: right;\n",
              "    }\n",
              "</style>\n",
              "<table border=\"1\" class=\"dataframe\">\n",
              "  <thead>\n",
              "    <tr style=\"text-align: right;\">\n",
              "      <th></th>\n",
              "      <th>word</th>\n",
              "    </tr>\n",
              "  </thead>\n",
              "  <tbody>\n",
              "    <tr>\n",
              "      <th>299790</th>\n",
              "      <td>spiks</td>\n",
              "    </tr>\n",
              "  </tbody>\n",
              "</table>\n",
              "</div>\n",
              "      <button class=\"colab-df-convert\" onclick=\"convertToInteractive('df-0d345e6a-7747-4902-b7e0-08615cf3cb3f')\"\n",
              "              title=\"Convert this dataframe to an interactive table.\"\n",
              "              style=\"display:none;\">\n",
              "        \n",
              "  <svg xmlns=\"http://www.w3.org/2000/svg\" height=\"24px\"viewBox=\"0 0 24 24\"\n",
              "       width=\"24px\">\n",
              "    <path d=\"M0 0h24v24H0V0z\" fill=\"none\"/>\n",
              "    <path d=\"M18.56 5.44l.94 2.06.94-2.06 2.06-.94-2.06-.94-.94-2.06-.94 2.06-2.06.94zm-11 1L8.5 8.5l.94-2.06 2.06-.94-2.06-.94L8.5 2.5l-.94 2.06-2.06.94zm10 10l.94 2.06.94-2.06 2.06-.94-2.06-.94-.94-2.06-.94 2.06-2.06.94z\"/><path d=\"M17.41 7.96l-1.37-1.37c-.4-.4-.92-.59-1.43-.59-.52 0-1.04.2-1.43.59L10.3 9.45l-7.72 7.72c-.78.78-.78 2.05 0 2.83L4 21.41c.39.39.9.59 1.41.59.51 0 1.02-.2 1.41-.59l7.78-7.78 2.81-2.81c.8-.78.8-2.07 0-2.86zM5.41 20L4 18.59l7.72-7.72 1.47 1.35L5.41 20z\"/>\n",
              "  </svg>\n",
              "      </button>\n",
              "      \n",
              "  <style>\n",
              "    .colab-df-container {\n",
              "      display:flex;\n",
              "      flex-wrap:wrap;\n",
              "      gap: 12px;\n",
              "    }\n",
              "\n",
              "    .colab-df-convert {\n",
              "      background-color: #E8F0FE;\n",
              "      border: none;\n",
              "      border-radius: 50%;\n",
              "      cursor: pointer;\n",
              "      display: none;\n",
              "      fill: #1967D2;\n",
              "      height: 32px;\n",
              "      padding: 0 0 0 0;\n",
              "      width: 32px;\n",
              "    }\n",
              "\n",
              "    .colab-df-convert:hover {\n",
              "      background-color: #E2EBFA;\n",
              "      box-shadow: 0px 1px 2px rgba(60, 64, 67, 0.3), 0px 1px 3px 1px rgba(60, 64, 67, 0.15);\n",
              "      fill: #174EA6;\n",
              "    }\n",
              "\n",
              "    [theme=dark] .colab-df-convert {\n",
              "      background-color: #3B4455;\n",
              "      fill: #D2E3FC;\n",
              "    }\n",
              "\n",
              "    [theme=dark] .colab-df-convert:hover {\n",
              "      background-color: #434B5C;\n",
              "      box-shadow: 0px 1px 3px 1px rgba(0, 0, 0, 0.15);\n",
              "      filter: drop-shadow(0px 1px 2px rgba(0, 0, 0, 0.3));\n",
              "      fill: #FFFFFF;\n",
              "    }\n",
              "  </style>\n",
              "\n",
              "      <script>\n",
              "        const buttonEl =\n",
              "          document.querySelector('#df-0d345e6a-7747-4902-b7e0-08615cf3cb3f button.colab-df-convert');\n",
              "        buttonEl.style.display =\n",
              "          google.colab.kernel.accessAllowed ? 'block' : 'none';\n",
              "\n",
              "        async function convertToInteractive(key) {\n",
              "          const element = document.querySelector('#df-0d345e6a-7747-4902-b7e0-08615cf3cb3f');\n",
              "          const dataTable =\n",
              "            await google.colab.kernel.invokeFunction('convertToInteractive',\n",
              "                                                     [key], {});\n",
              "          if (!dataTable) return;\n",
              "\n",
              "          const docLinkHtml = 'Like what you see? Visit the ' +\n",
              "            '<a target=\"_blank\" href=https://colab.research.google.com/notebooks/data_table.ipynb>data table notebook</a>'\n",
              "            + ' to learn more about interactive tables.';\n",
              "          element.innerHTML = '';\n",
              "          dataTable['output_type'] = 'display_data';\n",
              "          await google.colab.output.renderOutput(dataTable, element);\n",
              "          const docLink = document.createElement('div');\n",
              "          docLink.innerHTML = docLinkHtml;\n",
              "          element.appendChild(docLink);\n",
              "        }\n",
              "      </script>\n",
              "    </div>\n",
              "  </div>\n",
              "  "
            ],
            "text/plain": [
              "         word\n",
              "299790  spiks"
            ]
          },
          "metadata": {},
          "execution_count": 23
        }
      ]
    },
    {
      "cell_type": "code",
      "source": [
        "df5_today_grey"
      ],
      "metadata": {
        "colab": {
          "base_uri": "https://localhost:8080/",
          "height": 238
        },
        "id": "Fg5mIm2wLXik",
        "outputId": "86613754-1b63-456c-9294-121e19b86850"
      },
      "execution_count": null,
      "outputs": [
        {
          "output_type": "execute_result",
          "data": {
            "text/html": [
              "\n",
              "  <div id=\"df-425a2d22-6f29-46d0-bd17-575b91a69635\">\n",
              "    <div class=\"colab-df-container\">\n",
              "      <div>\n",
              "<style scoped>\n",
              "    .dataframe tbody tr th:only-of-type {\n",
              "        vertical-align: middle;\n",
              "    }\n",
              "\n",
              "    .dataframe tbody tr th {\n",
              "        vertical-align: top;\n",
              "    }\n",
              "\n",
              "    .dataframe thead th {\n",
              "        text-align: right;\n",
              "    }\n",
              "</style>\n",
              "<table border=\"1\" class=\"dataframe\">\n",
              "  <thead>\n",
              "    <tr style=\"text-align: right;\">\n",
              "      <th></th>\n",
              "      <th>word</th>\n",
              "    </tr>\n",
              "  </thead>\n",
              "  <tbody>\n",
              "    <tr>\n",
              "      <th>299733</th>\n",
              "      <td>spiff</td>\n",
              "    </tr>\n",
              "    <tr>\n",
              "      <th>299790</th>\n",
              "      <td>spiks</td>\n",
              "    </tr>\n",
              "    <tr>\n",
              "      <th>299804</th>\n",
              "      <td>spill</td>\n",
              "    </tr>\n",
              "    <tr>\n",
              "      <th>300167</th>\n",
              "      <td>spiro</td>\n",
              "    </tr>\n",
              "    <tr>\n",
              "      <th>300227</th>\n",
              "      <td>spiss</td>\n",
              "    </tr>\n",
              "    <tr>\n",
              "      <th>300294</th>\n",
              "      <td>spivs</td>\n",
              "    </tr>\n",
              "  </tbody>\n",
              "</table>\n",
              "</div>\n",
              "      <button class=\"colab-df-convert\" onclick=\"convertToInteractive('df-425a2d22-6f29-46d0-bd17-575b91a69635')\"\n",
              "              title=\"Convert this dataframe to an interactive table.\"\n",
              "              style=\"display:none;\">\n",
              "        \n",
              "  <svg xmlns=\"http://www.w3.org/2000/svg\" height=\"24px\"viewBox=\"0 0 24 24\"\n",
              "       width=\"24px\">\n",
              "    <path d=\"M0 0h24v24H0V0z\" fill=\"none\"/>\n",
              "    <path d=\"M18.56 5.44l.94 2.06.94-2.06 2.06-.94-2.06-.94-.94-2.06-.94 2.06-2.06.94zm-11 1L8.5 8.5l.94-2.06 2.06-.94-2.06-.94L8.5 2.5l-.94 2.06-2.06.94zm10 10l.94 2.06.94-2.06 2.06-.94-2.06-.94-.94-2.06-.94 2.06-2.06.94z\"/><path d=\"M17.41 7.96l-1.37-1.37c-.4-.4-.92-.59-1.43-.59-.52 0-1.04.2-1.43.59L10.3 9.45l-7.72 7.72c-.78.78-.78 2.05 0 2.83L4 21.41c.39.39.9.59 1.41.59.51 0 1.02-.2 1.41-.59l7.78-7.78 2.81-2.81c.8-.78.8-2.07 0-2.86zM5.41 20L4 18.59l7.72-7.72 1.47 1.35L5.41 20z\"/>\n",
              "  </svg>\n",
              "      </button>\n",
              "      \n",
              "  <style>\n",
              "    .colab-df-container {\n",
              "      display:flex;\n",
              "      flex-wrap:wrap;\n",
              "      gap: 12px;\n",
              "    }\n",
              "\n",
              "    .colab-df-convert {\n",
              "      background-color: #E8F0FE;\n",
              "      border: none;\n",
              "      border-radius: 50%;\n",
              "      cursor: pointer;\n",
              "      display: none;\n",
              "      fill: #1967D2;\n",
              "      height: 32px;\n",
              "      padding: 0 0 0 0;\n",
              "      width: 32px;\n",
              "    }\n",
              "\n",
              "    .colab-df-convert:hover {\n",
              "      background-color: #E2EBFA;\n",
              "      box-shadow: 0px 1px 2px rgba(60, 64, 67, 0.3), 0px 1px 3px 1px rgba(60, 64, 67, 0.15);\n",
              "      fill: #174EA6;\n",
              "    }\n",
              "\n",
              "    [theme=dark] .colab-df-convert {\n",
              "      background-color: #3B4455;\n",
              "      fill: #D2E3FC;\n",
              "    }\n",
              "\n",
              "    [theme=dark] .colab-df-convert:hover {\n",
              "      background-color: #434B5C;\n",
              "      box-shadow: 0px 1px 3px 1px rgba(0, 0, 0, 0.15);\n",
              "      filter: drop-shadow(0px 1px 2px rgba(0, 0, 0, 0.3));\n",
              "      fill: #FFFFFF;\n",
              "    }\n",
              "  </style>\n",
              "\n",
              "      <script>\n",
              "        const buttonEl =\n",
              "          document.querySelector('#df-425a2d22-6f29-46d0-bd17-575b91a69635 button.colab-df-convert');\n",
              "        buttonEl.style.display =\n",
              "          google.colab.kernel.accessAllowed ? 'block' : 'none';\n",
              "\n",
              "        async function convertToInteractive(key) {\n",
              "          const element = document.querySelector('#df-425a2d22-6f29-46d0-bd17-575b91a69635');\n",
              "          const dataTable =\n",
              "            await google.colab.kernel.invokeFunction('convertToInteractive',\n",
              "                                                     [key], {});\n",
              "          if (!dataTable) return;\n",
              "\n",
              "          const docLinkHtml = 'Like what you see? Visit the ' +\n",
              "            '<a target=\"_blank\" href=https://colab.research.google.com/notebooks/data_table.ipynb>data table notebook</a>'\n",
              "            + ' to learn more about interactive tables.';\n",
              "          element.innerHTML = '';\n",
              "          dataTable['output_type'] = 'display_data';\n",
              "          await google.colab.output.renderOutput(dataTable, element);\n",
              "          const docLink = document.createElement('div');\n",
              "          docLink.innerHTML = docLinkHtml;\n",
              "          element.appendChild(docLink);\n",
              "        }\n",
              "      </script>\n",
              "    </div>\n",
              "  </div>\n",
              "  "
            ],
            "text/plain": [
              "         word\n",
              "299733  spiff\n",
              "299790  spiks\n",
              "299804  spill\n",
              "300167  spiro\n",
              "300227  spiss\n",
              "300294  spivs"
            ]
          },
          "metadata": {},
          "execution_count": 24
        }
      ]
    }
  ]
}