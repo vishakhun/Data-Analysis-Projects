{
  "nbformat": 4,
  "nbformat_minor": 0,
  "metadata": {
    "colab": {
      "name": "web scraping project- github topic repository-rough .ipynb",
      "provenance": [],
      "authorship_tag": "ABX9TyNnLu6uIxSu+HFi12Z8m6YI",
      "include_colab_link": true
    },
    "kernelspec": {
      "name": "python3",
      "display_name": "Python 3"
    },
    "language_info": {
      "name": "python"
    }
  },
  "cells": [
    {
      "cell_type": "markdown",
      "metadata": {
        "id": "view-in-github",
        "colab_type": "text"
      },
      "source": [
        "<a href=\"https://colab.research.google.com/github/vishakhun/Data-Analysis-Tutorials/blob/main/web_scraping_project_github_topic_repository_rough_.ipynb\" target=\"_parent\"><img src=\"https://colab.research.google.com/assets/colab-badge.svg\" alt=\"Open In Colab\"/></a>"
      ]
    },
    {
      "cell_type": "markdown",
      "metadata": {
        "id": "CqlkQIj3-iFe"
      },
      "source": [
        "# Top Repositories for Github Topics\n",
        "\n"
      ]
    },
    {
      "cell_type": "code",
      "metadata": {
        "id": "mpF14oTUpspO"
      },
      "source": [
        ""
      ],
      "execution_count": null,
      "outputs": []
    },
    {
      "cell_type": "markdown",
      "metadata": {
        "id": "kge3ovo_-6uC"
      },
      "source": [
        "##1. Pick a website and describe your objective\n",
        "- Browse through different sites and pick on to scrape. \n",
        "- Identify the information you'd like to scrape from the site. Decide the format of the output CSV file.\n",
        "- Summarize your project idea and outline your strategy.\n"
      ]
    },
    {
      "cell_type": "markdown",
      "metadata": {
        "id": "a212OnzfEzCb"
      },
      "source": [
        ""
      ]
    },
    {
      "cell_type": "markdown",
      "metadata": {
        "id": "NjazBSKIAZqw"
      },
      "source": [
        "###Project Outline\n",
        "\n",
        "- Page picked for scraping - https://github.com/topics\n",
        "- A list of topic is what we get in GitHub Topics page.\n",
        "- For each topic, we will get topic title, topic page URL and topic description\n",
        "- For each topic we will get top 25 repositories in the topic from the topic page.\n",
        "- For each repository, we will take the repository name, username, stars and repository URL\n",
        "- for each topic we will create a CSV file in the format as below;\n",
        "\n",
        "```\n",
        "Repo Name,Username,Stars,Repo URL\n",
        "flutter,flutter,122000,https://github.com/flutter/flutter\n",
        "```\n",
        "\n",
        "\n",
        "\n",
        "\n"
      ]
    },
    {
      "cell_type": "markdown",
      "metadata": {
        "id": "4KyPRHrV-6S4"
      },
      "source": [
        "##2.Use the requests library to download web pages\n",
        "\n",
        "- Inspect the website's HTML source and identify the right URLs to download.\n",
        "- Download and save web pages locally using the requests library.\n",
        "- Create a function to automate downloading for different topics/search queries.\n"
      ]
    },
    {
      "cell_type": "code",
      "metadata": {
        "id": "Rw1FT8NQFiU3",
        "colab": {
          "base_uri": "https://localhost:8080/"
        },
        "outputId": "6956d898-eb86-4a94-edf9-c333c699bfa7"
      },
      "source": [
        "!pip install requests --upgrade --quiet"
      ],
      "execution_count": 1,
      "outputs": [
        {
          "output_type": "stream",
          "text": [
            "\u001b[?25l\r\u001b[K     |█████▍                          | 10kB 21.0MB/s eta 0:00:01\r\u001b[K     |██████████▊                     | 20kB 27.3MB/s eta 0:00:01\r\u001b[K     |████████████████                | 30kB 28.9MB/s eta 0:00:01\r\u001b[K     |█████████████████████▍          | 40kB 22.6MB/s eta 0:00:01\r\u001b[K     |██████████████████████████▊     | 51kB 18.1MB/s eta 0:00:01\r\u001b[K     |████████████████████████████████| 61kB 4.1MB/s \n",
            "\u001b[31mERROR: google-colab 1.0.0 has requirement requests~=2.23.0, but you'll have requests 2.25.1 which is incompatible.\u001b[0m\n",
            "\u001b[31mERROR: datascience 0.10.6 has requirement folium==0.2.1, but you'll have folium 0.8.3 which is incompatible.\u001b[0m\n",
            "\u001b[?25h"
          ],
          "name": "stdout"
        }
      ]
    },
    {
      "cell_type": "code",
      "metadata": {
        "id": "340pdOo1FiOq"
      },
      "source": [
        "import requests"
      ],
      "execution_count": 2,
      "outputs": []
    },
    {
      "cell_type": "code",
      "metadata": {
        "id": "QT9W7a7-FiDs"
      },
      "source": [
        "topics_url = 'https://github.com/topics'"
      ],
      "execution_count": 3,
      "outputs": []
    },
    {
      "cell_type": "code",
      "metadata": {
        "id": "8qSITJ6MGJ5I"
      },
      "source": [
        "response = requests.get(topics_url)"
      ],
      "execution_count": 4,
      "outputs": []
    },
    {
      "cell_type": "code",
      "metadata": {
        "colab": {
          "base_uri": "https://localhost:8080/"
        },
        "id": "Na3EHXoWGJs4",
        "outputId": "fc449ef8-d776-4b65-a2fb-08276a2eb307"
      },
      "source": [
        "response.status_code"
      ],
      "execution_count": 5,
      "outputs": [
        {
          "output_type": "execute_result",
          "data": {
            "text/plain": [
              "200"
            ]
          },
          "metadata": {
            "tags": []
          },
          "execution_count": 5
        }
      ]
    },
    {
      "cell_type": "code",
      "metadata": {
        "colab": {
          "base_uri": "https://localhost:8080/"
        },
        "id": "hft5xO6wGUkO",
        "outputId": "ddaa43b2-d213-4b18-97dc-fdf2a71a35b7"
      },
      "source": [
        "len(response.text)"
      ],
      "execution_count": 6,
      "outputs": [
        {
          "output_type": "execute_result",
          "data": {
            "text/plain": [
              "128360"
            ]
          },
          "metadata": {
            "tags": []
          },
          "execution_count": 6
        }
      ]
    },
    {
      "cell_type": "code",
      "metadata": {
        "id": "xldlLpCQGUcL"
      },
      "source": [
        "page_content = response.text"
      ],
      "execution_count": 7,
      "outputs": []
    },
    {
      "cell_type": "code",
      "metadata": {
        "colab": {
          "base_uri": "https://localhost:8080/",
          "height": 52
        },
        "id": "3w06qAAHGUSw",
        "outputId": "5be54a4d-c98b-4224-d28b-e249294f9dab"
      },
      "source": [
        "page_content[:250]"
      ],
      "execution_count": 8,
      "outputs": [
        {
          "output_type": "execute_result",
          "data": {
            "application/vnd.google.colaboratory.intrinsic+json": {
              "type": "string"
            },
            "text/plain": [
              "'\\n\\n<!DOCTYPE html>\\n<html lang=\"en\" data-color-mode=\"auto\" data-light-theme=\"light\" data-dark-theme=\"dark\">\\n  <head>\\n    <meta charset=\"utf-8\">\\n  <link rel=\"dns-prefetch\" href=\"https://github.githubassets.com\">\\n  <link rel=\"dns-prefetch\" href=\"https://'"
            ]
          },
          "metadata": {
            "tags": []
          },
          "execution_count": 8
        }
      ]
    },
    {
      "cell_type": "code",
      "metadata": {
        "id": "2c0ivy9DG3rR"
      },
      "source": [
        "with open('webpage.html', 'w') as f:\n",
        "    f.write(page_content) "
      ],
      "execution_count": 9,
      "outputs": []
    },
    {
      "cell_type": "markdown",
      "metadata": {
        "id": "tmdZMEXB-5_S"
      },
      "source": [
        "## 3. Use Beautiful Soup to parse and extract information.\n",
        "\n",
        "- Parse and explore the structure of downloaded web pages using Beautiful soup.\n",
        "- Use the right properties and methods to extract the required information.\n",
        "- Create functions to extract from the page into lists and dictionaries.\n",
        "- (Optional) Use a REST API to acquire additional information if required.\n",
        "\n"
      ]
    },
    {
      "cell_type": "code",
      "metadata": {
        "id": "YM7bwzlIHxqE",
        "colab": {
          "base_uri": "https://localhost:8080/"
        },
        "outputId": "b9127110-37d9-4327-8a5d-6683ba4dff7f"
      },
      "source": [
        "!pip install beautifulsoup4 --upgrade --quiet"
      ],
      "execution_count": 10,
      "outputs": [
        {
          "output_type": "stream",
          "text": [
            "\u001b[?25l\r\u001b[K     |██▉                             | 10kB 17.8MB/s eta 0:00:01\r\u001b[K     |█████▋                          | 20kB 22.8MB/s eta 0:00:01\r\u001b[K     |████████▌                       | 30kB 27.0MB/s eta 0:00:01\r\u001b[K     |███████████▎                    | 40kB 27.9MB/s eta 0:00:01\r\u001b[K     |██████████████▏                 | 51kB 17.3MB/s eta 0:00:01\r\u001b[K     |█████████████████               | 61kB 12.9MB/s eta 0:00:01\r\u001b[K     |███████████████████▉            | 71kB 12.4MB/s eta 0:00:01\r\u001b[K     |██████████████████████▋         | 81kB 13.3MB/s eta 0:00:01\r\u001b[K     |█████████████████████████▌      | 92kB 14.1MB/s eta 0:00:01\r\u001b[K     |████████████████████████████▎   | 102kB 11.4MB/s eta 0:00:01\r\u001b[K     |███████████████████████████████▏| 112kB 11.4MB/s eta 0:00:01\r\u001b[K     |████████████████████████████████| 122kB 11.4MB/s \n",
            "\u001b[?25h"
          ],
          "name": "stdout"
        }
      ]
    },
    {
      "cell_type": "code",
      "metadata": {
        "id": "WiD6tMoYIJCp"
      },
      "source": [
        "from bs4 import BeautifulSoup"
      ],
      "execution_count": 11,
      "outputs": []
    },
    {
      "cell_type": "code",
      "metadata": {
        "id": "NMXa0Zd8Hxkm"
      },
      "source": [
        "doc = BeautifulSoup(page_content, 'html.parser')"
      ],
      "execution_count": 12,
      "outputs": []
    },
    {
      "cell_type": "code",
      "metadata": {
        "id": "QqQsdw67HxY7"
      },
      "source": [
        "selection_class = 'f3 lh-condensed mb-0 mt-1 Link--primary'\n",
        "topic_title_tags = doc.find_all('p',{'class' : selection_class})"
      ],
      "execution_count": 13,
      "outputs": []
    },
    {
      "cell_type": "code",
      "metadata": {
        "colab": {
          "base_uri": "https://localhost:8080/"
        },
        "id": "3LwiV2eYKx4l",
        "outputId": "bc0d6afc-4215-40e7-9ce3-5b1e7c8ec76c"
      },
      "source": [
        "len(topic_title_tags)"
      ],
      "execution_count": 14,
      "outputs": [
        {
          "output_type": "execute_result",
          "data": {
            "text/plain": [
              "30"
            ]
          },
          "metadata": {
            "tags": []
          },
          "execution_count": 14
        }
      ]
    },
    {
      "cell_type": "code",
      "metadata": {
        "colab": {
          "base_uri": "https://localhost:8080/"
        },
        "id": "sh6z-ZSIK20_",
        "outputId": "b4238139-c46f-4452-ff59-a78025b752f2"
      },
      "source": [
        "topic_title_tags"
      ],
      "execution_count": 15,
      "outputs": [
        {
          "output_type": "execute_result",
          "data": {
            "text/plain": [
              "[<p class=\"f3 lh-condensed mb-0 mt-1 Link--primary\">3D</p>,\n",
              " <p class=\"f3 lh-condensed mb-0 mt-1 Link--primary\">Ajax</p>,\n",
              " <p class=\"f3 lh-condensed mb-0 mt-1 Link--primary\">Algorithm</p>,\n",
              " <p class=\"f3 lh-condensed mb-0 mt-1 Link--primary\">Amp</p>,\n",
              " <p class=\"f3 lh-condensed mb-0 mt-1 Link--primary\">Android</p>,\n",
              " <p class=\"f3 lh-condensed mb-0 mt-1 Link--primary\">Angular</p>,\n",
              " <p class=\"f3 lh-condensed mb-0 mt-1 Link--primary\">Ansible</p>,\n",
              " <p class=\"f3 lh-condensed mb-0 mt-1 Link--primary\">API</p>,\n",
              " <p class=\"f3 lh-condensed mb-0 mt-1 Link--primary\">Arduino</p>,\n",
              " <p class=\"f3 lh-condensed mb-0 mt-1 Link--primary\">ASP.NET</p>,\n",
              " <p class=\"f3 lh-condensed mb-0 mt-1 Link--primary\">Atom</p>,\n",
              " <p class=\"f3 lh-condensed mb-0 mt-1 Link--primary\">Awesome Lists</p>,\n",
              " <p class=\"f3 lh-condensed mb-0 mt-1 Link--primary\">Amazon Web Services</p>,\n",
              " <p class=\"f3 lh-condensed mb-0 mt-1 Link--primary\">Azure</p>,\n",
              " <p class=\"f3 lh-condensed mb-0 mt-1 Link--primary\">Babel</p>,\n",
              " <p class=\"f3 lh-condensed mb-0 mt-1 Link--primary\">Bash</p>,\n",
              " <p class=\"f3 lh-condensed mb-0 mt-1 Link--primary\">Bitcoin</p>,\n",
              " <p class=\"f3 lh-condensed mb-0 mt-1 Link--primary\">Bootstrap</p>,\n",
              " <p class=\"f3 lh-condensed mb-0 mt-1 Link--primary\">Bot</p>,\n",
              " <p class=\"f3 lh-condensed mb-0 mt-1 Link--primary\">C</p>,\n",
              " <p class=\"f3 lh-condensed mb-0 mt-1 Link--primary\">Chrome</p>,\n",
              " <p class=\"f3 lh-condensed mb-0 mt-1 Link--primary\">Chrome extension</p>,\n",
              " <p class=\"f3 lh-condensed mb-0 mt-1 Link--primary\">Command line interface</p>,\n",
              " <p class=\"f3 lh-condensed mb-0 mt-1 Link--primary\">Clojure</p>,\n",
              " <p class=\"f3 lh-condensed mb-0 mt-1 Link--primary\">Code quality</p>,\n",
              " <p class=\"f3 lh-condensed mb-0 mt-1 Link--primary\">Code review</p>,\n",
              " <p class=\"f3 lh-condensed mb-0 mt-1 Link--primary\">Compiler</p>,\n",
              " <p class=\"f3 lh-condensed mb-0 mt-1 Link--primary\">Continuous integration</p>,\n",
              " <p class=\"f3 lh-condensed mb-0 mt-1 Link--primary\">COVID-19</p>,\n",
              " <p class=\"f3 lh-condensed mb-0 mt-1 Link--primary\">C++</p>]"
            ]
          },
          "metadata": {
            "tags": []
          },
          "execution_count": 15
        }
      ]
    },
    {
      "cell_type": "code",
      "metadata": {
        "id": "j8WRBAr8K9VL"
      },
      "source": [
        "desc_selector = 'f5 color-text-secondary mb-0 mt-1'\n",
        "topic_desc_tags = doc.find_all('p',{'class':desc_selector})\n",
        "              "
      ],
      "execution_count": 16,
      "outputs": []
    },
    {
      "cell_type": "code",
      "metadata": {
        "colab": {
          "base_uri": "https://localhost:8080/"
        },
        "id": "zN24IEcyK9Jk",
        "outputId": "8da03c53-dd00-4cf2-e244-92deb56b3dc6"
      },
      "source": [
        "topic_desc_tags [:5]"
      ],
      "execution_count": 17,
      "outputs": [
        {
          "output_type": "execute_result",
          "data": {
            "text/plain": [
              "[<p class=\"f5 color-text-secondary mb-0 mt-1\">\n",
              "               3D modeling is the process of virtually developing the surface and structure of a 3D object.\n",
              "             </p>, <p class=\"f5 color-text-secondary mb-0 mt-1\">\n",
              "               Ajax is a technique for creating interactive web applications.\n",
              "             </p>, <p class=\"f5 color-text-secondary mb-0 mt-1\">\n",
              "               Algorithms are self-contained sequences that carry out a variety of tasks.\n",
              "             </p>, <p class=\"f5 color-text-secondary mb-0 mt-1\">\n",
              "               Amp is a non-blocking concurrency framework for PHP.\n",
              "             </p>, <p class=\"f5 color-text-secondary mb-0 mt-1\">\n",
              "               Android is an operating system built by Google designed for mobile devices.\n",
              "             </p>]"
            ]
          },
          "metadata": {
            "tags": []
          },
          "execution_count": 17
        }
      ]
    },
    {
      "cell_type": "code",
      "metadata": {
        "id": "XA7BNsmHLmtC"
      },
      "source": [
        "link_selector = 'd-flex no-underline'\n",
        "topic_link_tags = doc.find_all('a',{'class':link_selector})"
      ],
      "execution_count": 18,
      "outputs": []
    },
    {
      "cell_type": "code",
      "metadata": {
        "colab": {
          "base_uri": "https://localhost:8080/"
        },
        "id": "kVOHq9kKLmoC",
        "outputId": "689802d6-fac4-4a0c-db45-d439e6fac0b9"
      },
      "source": [
        "len(topic_link_tags)"
      ],
      "execution_count": 19,
      "outputs": [
        {
          "output_type": "execute_result",
          "data": {
            "text/plain": [
              "30"
            ]
          },
          "metadata": {
            "tags": []
          },
          "execution_count": 19
        }
      ]
    },
    {
      "cell_type": "code",
      "metadata": {
        "colab": {
          "base_uri": "https://localhost:8080/",
          "height": 35
        },
        "id": "2aOvLmqbLmi1",
        "outputId": "31a5bf26-6c1a-4282-f1c4-039834cc96b6"
      },
      "source": [
        "\"https://github.com\"+topic_link_tags[0]['href']"
      ],
      "execution_count": 20,
      "outputs": [
        {
          "output_type": "execute_result",
          "data": {
            "application/vnd.google.colaboratory.intrinsic+json": {
              "type": "string"
            },
            "text/plain": [
              "'https://github.com/topics/3d'"
            ]
          },
          "metadata": {
            "tags": []
          },
          "execution_count": 20
        }
      ]
    },
    {
      "cell_type": "code",
      "metadata": {
        "colab": {
          "base_uri": "https://localhost:8080/",
          "height": 35
        },
        "id": "9pYALZtSOLLm",
        "outputId": "4d6c67e8-aee2-45c5-9017-b270d48860f0"
      },
      "source": [
        "topic_title_tags[0].text"
      ],
      "execution_count": 21,
      "outputs": [
        {
          "output_type": "execute_result",
          "data": {
            "application/vnd.google.colaboratory.intrinsic+json": {
              "type": "string"
            },
            "text/plain": [
              "'3D'"
            ]
          },
          "metadata": {
            "tags": []
          },
          "execution_count": 21
        }
      ]
    },
    {
      "cell_type": "code",
      "metadata": {
        "colab": {
          "base_uri": "https://localhost:8080/",
          "height": 35
        },
        "id": "EjdeHlGHOR4l",
        "outputId": "d495ae87-7e80-45d0-97ad-c13b0466eef6"
      },
      "source": [
        "topic_desc_tags[0].text"
      ],
      "execution_count": 22,
      "outputs": [
        {
          "output_type": "execute_result",
          "data": {
            "application/vnd.google.colaboratory.intrinsic+json": {
              "type": "string"
            },
            "text/plain": [
              "'\\n              3D modeling is the process of virtually developing the surface and structure of a 3D object.\\n            '"
            ]
          },
          "metadata": {
            "tags": []
          },
          "execution_count": 22
        }
      ]
    },
    {
      "cell_type": "code",
      "metadata": {
        "colab": {
          "base_uri": "https://localhost:8080/",
          "height": 35
        },
        "id": "yQxLU0e_OkyY",
        "outputId": "bd5b2bd2-4dc8-4dc3-e303-dce0a74cf46c"
      },
      "source": [
        "topic_desc_tags[0].text.strip()"
      ],
      "execution_count": 23,
      "outputs": [
        {
          "output_type": "execute_result",
          "data": {
            "application/vnd.google.colaboratory.intrinsic+json": {
              "type": "string"
            },
            "text/plain": [
              "'3D modeling is the process of virtually developing the surface and structure of a 3D object.'"
            ]
          },
          "metadata": {
            "tags": []
          },
          "execution_count": 23
        }
      ]
    },
    {
      "cell_type": "code",
      "metadata": {
        "colab": {
          "base_uri": "https://localhost:8080/"
        },
        "id": "8vMKQ8c7Nkhm",
        "outputId": "7f613681-b6ff-4f10-8456-70ef5ea5bb26"
      },
      "source": [
        "topic_titles = []\n",
        "\n",
        "for tag in topic_title_tags:\n",
        "  topic_titles.append(tag.text)\n",
        "\n",
        "topic_titles\n",
        "\n"
      ],
      "execution_count": 24,
      "outputs": [
        {
          "output_type": "execute_result",
          "data": {
            "text/plain": [
              "['3D',\n",
              " 'Ajax',\n",
              " 'Algorithm',\n",
              " 'Amp',\n",
              " 'Android',\n",
              " 'Angular',\n",
              " 'Ansible',\n",
              " 'API',\n",
              " 'Arduino',\n",
              " 'ASP.NET',\n",
              " 'Atom',\n",
              " 'Awesome Lists',\n",
              " 'Amazon Web Services',\n",
              " 'Azure',\n",
              " 'Babel',\n",
              " 'Bash',\n",
              " 'Bitcoin',\n",
              " 'Bootstrap',\n",
              " 'Bot',\n",
              " 'C',\n",
              " 'Chrome',\n",
              " 'Chrome extension',\n",
              " 'Command line interface',\n",
              " 'Clojure',\n",
              " 'Code quality',\n",
              " 'Code review',\n",
              " 'Compiler',\n",
              " 'Continuous integration',\n",
              " 'COVID-19',\n",
              " 'C++']"
            ]
          },
          "metadata": {
            "tags": []
          },
          "execution_count": 24
        }
      ]
    },
    {
      "cell_type": "code",
      "metadata": {
        "colab": {
          "base_uri": "https://localhost:8080/"
        },
        "id": "nurz-gmjNkd3",
        "outputId": "e847dd55-a327-4bc4-d192-d2b8e02cecc4"
      },
      "source": [
        "topic_descs = []\n",
        "\n",
        "for tag in topic_desc_tags:\n",
        "  topic_descs.append(tag.text.strip())\n",
        "\n",
        "topic_descs[:5]\n"
      ],
      "execution_count": 25,
      "outputs": [
        {
          "output_type": "execute_result",
          "data": {
            "text/plain": [
              "['3D modeling is the process of virtually developing the surface and structure of a 3D object.',\n",
              " 'Ajax is a technique for creating interactive web applications.',\n",
              " 'Algorithms are self-contained sequences that carry out a variety of tasks.',\n",
              " 'Amp is a non-blocking concurrency framework for PHP.',\n",
              " 'Android is an operating system built by Google designed for mobile devices.']"
            ]
          },
          "metadata": {
            "tags": []
          },
          "execution_count": 25
        }
      ]
    },
    {
      "cell_type": "code",
      "metadata": {
        "colab": {
          "base_uri": "https://localhost:8080/"
        },
        "id": "2J5lM0kYNkab",
        "outputId": "a83378ec-60bf-4da5-ed43-74ff1564e77c"
      },
      "source": [
        "topic_urls = []\n",
        "base_url = 'https://github.com'\n",
        "\n",
        "for tag in topic_link_tags:\n",
        "  topic_urls.append(base_url + tag['href'])\n",
        "\n",
        "topic_urls\n"
      ],
      "execution_count": 26,
      "outputs": [
        {
          "output_type": "execute_result",
          "data": {
            "text/plain": [
              "['https://github.com/topics/3d',\n",
              " 'https://github.com/topics/ajax',\n",
              " 'https://github.com/topics/algorithm',\n",
              " 'https://github.com/topics/amphp',\n",
              " 'https://github.com/topics/android',\n",
              " 'https://github.com/topics/angular',\n",
              " 'https://github.com/topics/ansible',\n",
              " 'https://github.com/topics/api',\n",
              " 'https://github.com/topics/arduino',\n",
              " 'https://github.com/topics/aspnet',\n",
              " 'https://github.com/topics/atom',\n",
              " 'https://github.com/topics/awesome',\n",
              " 'https://github.com/topics/aws',\n",
              " 'https://github.com/topics/azure',\n",
              " 'https://github.com/topics/babel',\n",
              " 'https://github.com/topics/bash',\n",
              " 'https://github.com/topics/bitcoin',\n",
              " 'https://github.com/topics/bootstrap',\n",
              " 'https://github.com/topics/bot',\n",
              " 'https://github.com/topics/c',\n",
              " 'https://github.com/topics/chrome',\n",
              " 'https://github.com/topics/chrome-extension',\n",
              " 'https://github.com/topics/cli',\n",
              " 'https://github.com/topics/clojure',\n",
              " 'https://github.com/topics/code-quality',\n",
              " 'https://github.com/topics/code-review',\n",
              " 'https://github.com/topics/compiler',\n",
              " 'https://github.com/topics/continuous-integration',\n",
              " 'https://github.com/topics/covid-19',\n",
              " 'https://github.com/topics/cpp']"
            ]
          },
          "metadata": {
            "tags": []
          },
          "execution_count": 26
        }
      ]
    },
    {
      "cell_type": "code",
      "metadata": {
        "colab": {
          "base_uri": "https://localhost:8080/"
        },
        "id": "XlNFaVMhQNXB",
        "outputId": "b04ef272-0a9f-4a1f-ceb0-2cd99fc54bdc"
      },
      "source": [
        "!pip uninstall pandas --quiet\n"
      ],
      "execution_count": 27,
      "outputs": [
        {
          "output_type": "stream",
          "text": [
            "Proceed (y/n)? y\n"
          ],
          "name": "stdout"
        }
      ]
    },
    {
      "cell_type": "code",
      "metadata": {
        "colab": {
          "base_uri": "https://localhost:8080/"
        },
        "id": "kJ4u6zq4UxzZ",
        "outputId": "f4a60158-b388-4c88-e69a-1d5297ee38e0"
      },
      "source": [
        "!pip install pandas==1.1.5 --quiet"
      ],
      "execution_count": 28,
      "outputs": [
        {
          "output_type": "stream",
          "text": [
            "\u001b[K     |████████████████████████████████| 9.5MB 10.2MB/s \n",
            "\u001b[31mERROR: google-colab 1.0.0 has requirement requests~=2.23.0, but you'll have requests 2.25.1 which is incompatible.\u001b[0m\n",
            "\u001b[?25h"
          ],
          "name": "stdout"
        }
      ]
    },
    {
      "cell_type": "code",
      "metadata": {
        "id": "hFMzP6ekQNKi"
      },
      "source": [
        "import pandas as pd"
      ],
      "execution_count": 29,
      "outputs": []
    },
    {
      "cell_type": "code",
      "metadata": {
        "id": "da9b2i0rQ2ky"
      },
      "source": [
        "topic_dict = {\n",
        "    'title' : topic_titles,\n",
        "    'description' : topic_descs,\n",
        "    'url' : topic_urls\n",
        "}"
      ],
      "execution_count": 30,
      "outputs": []
    },
    {
      "cell_type": "code",
      "metadata": {
        "id": "Ffe87QrcQNAQ"
      },
      "source": [
        "topics_df = pd.DataFrame(topic_dict)"
      ],
      "execution_count": 31,
      "outputs": []
    },
    {
      "cell_type": "code",
      "metadata": {
        "colab": {
          "base_uri": "https://localhost:8080/",
          "height": 979
        },
        "id": "E1e0lE6hVRVg",
        "outputId": "ba83110a-a5ef-4165-8f2a-485a599d843a"
      },
      "source": [
        "topics_df"
      ],
      "execution_count": 32,
      "outputs": [
        {
          "output_type": "execute_result",
          "data": {
            "text/html": [
              "<div>\n",
              "<style scoped>\n",
              "    .dataframe tbody tr th:only-of-type {\n",
              "        vertical-align: middle;\n",
              "    }\n",
              "\n",
              "    .dataframe tbody tr th {\n",
              "        vertical-align: top;\n",
              "    }\n",
              "\n",
              "    .dataframe thead th {\n",
              "        text-align: right;\n",
              "    }\n",
              "</style>\n",
              "<table border=\"1\" class=\"dataframe\">\n",
              "  <thead>\n",
              "    <tr style=\"text-align: right;\">\n",
              "      <th></th>\n",
              "      <th>title</th>\n",
              "      <th>description</th>\n",
              "      <th>url</th>\n",
              "    </tr>\n",
              "  </thead>\n",
              "  <tbody>\n",
              "    <tr>\n",
              "      <th>0</th>\n",
              "      <td>3D</td>\n",
              "      <td>3D modeling is the process of virtually develo...</td>\n",
              "      <td>https://github.com/topics/3d</td>\n",
              "    </tr>\n",
              "    <tr>\n",
              "      <th>1</th>\n",
              "      <td>Ajax</td>\n",
              "      <td>Ajax is a technique for creating interactive w...</td>\n",
              "      <td>https://github.com/topics/ajax</td>\n",
              "    </tr>\n",
              "    <tr>\n",
              "      <th>2</th>\n",
              "      <td>Algorithm</td>\n",
              "      <td>Algorithms are self-contained sequences that c...</td>\n",
              "      <td>https://github.com/topics/algorithm</td>\n",
              "    </tr>\n",
              "    <tr>\n",
              "      <th>3</th>\n",
              "      <td>Amp</td>\n",
              "      <td>Amp is a non-blocking concurrency framework fo...</td>\n",
              "      <td>https://github.com/topics/amphp</td>\n",
              "    </tr>\n",
              "    <tr>\n",
              "      <th>4</th>\n",
              "      <td>Android</td>\n",
              "      <td>Android is an operating system built by Google...</td>\n",
              "      <td>https://github.com/topics/android</td>\n",
              "    </tr>\n",
              "    <tr>\n",
              "      <th>5</th>\n",
              "      <td>Angular</td>\n",
              "      <td>Angular is an open source web application plat...</td>\n",
              "      <td>https://github.com/topics/angular</td>\n",
              "    </tr>\n",
              "    <tr>\n",
              "      <th>6</th>\n",
              "      <td>Ansible</td>\n",
              "      <td>Ansible is a simple and powerful automation en...</td>\n",
              "      <td>https://github.com/topics/ansible</td>\n",
              "    </tr>\n",
              "    <tr>\n",
              "      <th>7</th>\n",
              "      <td>API</td>\n",
              "      <td>An API (Application Programming Interface) is ...</td>\n",
              "      <td>https://github.com/topics/api</td>\n",
              "    </tr>\n",
              "    <tr>\n",
              "      <th>8</th>\n",
              "      <td>Arduino</td>\n",
              "      <td>Arduino is an open source hardware and softwar...</td>\n",
              "      <td>https://github.com/topics/arduino</td>\n",
              "    </tr>\n",
              "    <tr>\n",
              "      <th>9</th>\n",
              "      <td>ASP.NET</td>\n",
              "      <td>ASP.NET is a web framework for building modern...</td>\n",
              "      <td>https://github.com/topics/aspnet</td>\n",
              "    </tr>\n",
              "    <tr>\n",
              "      <th>10</th>\n",
              "      <td>Atom</td>\n",
              "      <td>Atom is a open source text editor built with w...</td>\n",
              "      <td>https://github.com/topics/atom</td>\n",
              "    </tr>\n",
              "    <tr>\n",
              "      <th>11</th>\n",
              "      <td>Awesome Lists</td>\n",
              "      <td>An awesome list is a list of awesome things cu...</td>\n",
              "      <td>https://github.com/topics/awesome</td>\n",
              "    </tr>\n",
              "    <tr>\n",
              "      <th>12</th>\n",
              "      <td>Amazon Web Services</td>\n",
              "      <td>Amazon Web Services provides on-demand cloud c...</td>\n",
              "      <td>https://github.com/topics/aws</td>\n",
              "    </tr>\n",
              "    <tr>\n",
              "      <th>13</th>\n",
              "      <td>Azure</td>\n",
              "      <td>Azure is a cloud computing service created by ...</td>\n",
              "      <td>https://github.com/topics/azure</td>\n",
              "    </tr>\n",
              "    <tr>\n",
              "      <th>14</th>\n",
              "      <td>Babel</td>\n",
              "      <td>Babel is a compiler for writing next generatio...</td>\n",
              "      <td>https://github.com/topics/babel</td>\n",
              "    </tr>\n",
              "    <tr>\n",
              "      <th>15</th>\n",
              "      <td>Bash</td>\n",
              "      <td>Bash is a shell and command language interpret...</td>\n",
              "      <td>https://github.com/topics/bash</td>\n",
              "    </tr>\n",
              "    <tr>\n",
              "      <th>16</th>\n",
              "      <td>Bitcoin</td>\n",
              "      <td>Bitcoin is a cryptocurrency developed by Satos...</td>\n",
              "      <td>https://github.com/topics/bitcoin</td>\n",
              "    </tr>\n",
              "    <tr>\n",
              "      <th>17</th>\n",
              "      <td>Bootstrap</td>\n",
              "      <td>Bootstrap is an HTML, CSS, and JavaScript fram...</td>\n",
              "      <td>https://github.com/topics/bootstrap</td>\n",
              "    </tr>\n",
              "    <tr>\n",
              "      <th>18</th>\n",
              "      <td>Bot</td>\n",
              "      <td>A bot is an application that runs automated ta...</td>\n",
              "      <td>https://github.com/topics/bot</td>\n",
              "    </tr>\n",
              "    <tr>\n",
              "      <th>19</th>\n",
              "      <td>C</td>\n",
              "      <td>C is a general purpose programming language th...</td>\n",
              "      <td>https://github.com/topics/c</td>\n",
              "    </tr>\n",
              "    <tr>\n",
              "      <th>20</th>\n",
              "      <td>Chrome</td>\n",
              "      <td>Chrome is a web browser from the tech company ...</td>\n",
              "      <td>https://github.com/topics/chrome</td>\n",
              "    </tr>\n",
              "    <tr>\n",
              "      <th>21</th>\n",
              "      <td>Chrome extension</td>\n",
              "      <td>Google Chrome Extensions are add-ons that allo...</td>\n",
              "      <td>https://github.com/topics/chrome-extension</td>\n",
              "    </tr>\n",
              "    <tr>\n",
              "      <th>22</th>\n",
              "      <td>Command line interface</td>\n",
              "      <td>A CLI, or command-line interface, is a console...</td>\n",
              "      <td>https://github.com/topics/cli</td>\n",
              "    </tr>\n",
              "    <tr>\n",
              "      <th>23</th>\n",
              "      <td>Clojure</td>\n",
              "      <td>Clojure is a dynamic, general-purpose programm...</td>\n",
              "      <td>https://github.com/topics/clojure</td>\n",
              "    </tr>\n",
              "    <tr>\n",
              "      <th>24</th>\n",
              "      <td>Code quality</td>\n",
              "      <td>Automate your code review with style, quality,...</td>\n",
              "      <td>https://github.com/topics/code-quality</td>\n",
              "    </tr>\n",
              "    <tr>\n",
              "      <th>25</th>\n",
              "      <td>Code review</td>\n",
              "      <td>Ensure your code meets quality standards and s...</td>\n",
              "      <td>https://github.com/topics/code-review</td>\n",
              "    </tr>\n",
              "    <tr>\n",
              "      <th>26</th>\n",
              "      <td>Compiler</td>\n",
              "      <td>Compilers are software that translate higher-l...</td>\n",
              "      <td>https://github.com/topics/compiler</td>\n",
              "    </tr>\n",
              "    <tr>\n",
              "      <th>27</th>\n",
              "      <td>Continuous integration</td>\n",
              "      <td>Automatically build and test your code as you ...</td>\n",
              "      <td>https://github.com/topics/continuous-integration</td>\n",
              "    </tr>\n",
              "    <tr>\n",
              "      <th>28</th>\n",
              "      <td>COVID-19</td>\n",
              "      <td>The coronavirus disease 2019 (COVID-19) is an ...</td>\n",
              "      <td>https://github.com/topics/covid-19</td>\n",
              "    </tr>\n",
              "    <tr>\n",
              "      <th>29</th>\n",
              "      <td>C++</td>\n",
              "      <td>C++ is a general purpose and object-oriented p...</td>\n",
              "      <td>https://github.com/topics/cpp</td>\n",
              "    </tr>\n",
              "  </tbody>\n",
              "</table>\n",
              "</div>"
            ],
            "text/plain": [
              "                     title  ...                                               url\n",
              "0                       3D  ...                      https://github.com/topics/3d\n",
              "1                     Ajax  ...                    https://github.com/topics/ajax\n",
              "2                Algorithm  ...               https://github.com/topics/algorithm\n",
              "3                      Amp  ...                   https://github.com/topics/amphp\n",
              "4                  Android  ...                 https://github.com/topics/android\n",
              "5                  Angular  ...                 https://github.com/topics/angular\n",
              "6                  Ansible  ...                 https://github.com/topics/ansible\n",
              "7                      API  ...                     https://github.com/topics/api\n",
              "8                  Arduino  ...                 https://github.com/topics/arduino\n",
              "9                  ASP.NET  ...                  https://github.com/topics/aspnet\n",
              "10                    Atom  ...                    https://github.com/topics/atom\n",
              "11           Awesome Lists  ...                 https://github.com/topics/awesome\n",
              "12     Amazon Web Services  ...                     https://github.com/topics/aws\n",
              "13                   Azure  ...                   https://github.com/topics/azure\n",
              "14                   Babel  ...                   https://github.com/topics/babel\n",
              "15                    Bash  ...                    https://github.com/topics/bash\n",
              "16                 Bitcoin  ...                 https://github.com/topics/bitcoin\n",
              "17               Bootstrap  ...               https://github.com/topics/bootstrap\n",
              "18                     Bot  ...                     https://github.com/topics/bot\n",
              "19                       C  ...                       https://github.com/topics/c\n",
              "20                  Chrome  ...                  https://github.com/topics/chrome\n",
              "21        Chrome extension  ...        https://github.com/topics/chrome-extension\n",
              "22  Command line interface  ...                     https://github.com/topics/cli\n",
              "23                 Clojure  ...                 https://github.com/topics/clojure\n",
              "24            Code quality  ...            https://github.com/topics/code-quality\n",
              "25             Code review  ...             https://github.com/topics/code-review\n",
              "26                Compiler  ...                https://github.com/topics/compiler\n",
              "27  Continuous integration  ...  https://github.com/topics/continuous-integration\n",
              "28                COVID-19  ...                https://github.com/topics/covid-19\n",
              "29                     C++  ...                     https://github.com/topics/cpp\n",
              "\n",
              "[30 rows x 3 columns]"
            ]
          },
          "metadata": {
            "tags": []
          },
          "execution_count": 32
        }
      ]
    },
    {
      "cell_type": "code",
      "metadata": {
        "id": "e-xWWJupTZRn"
      },
      "source": [
        "topics_df.to_csv('topics.csv',index=None)"
      ],
      "execution_count": 33,
      "outputs": []
    },
    {
      "cell_type": "markdown",
      "metadata": {
        "id": "GPHYJuspWHgl"
      },
      "source": [
        "## Getting information from a topic page"
      ]
    },
    {
      "cell_type": "code",
      "metadata": {
        "id": "tYVTYdiqWByC"
      },
      "source": [
        "topic_page_url = topic_urls[0]"
      ],
      "execution_count": 34,
      "outputs": []
    },
    {
      "cell_type": "code",
      "metadata": {
        "colab": {
          "base_uri": "https://localhost:8080/",
          "height": 35
        },
        "id": "YhR8J_B9WHTJ",
        "outputId": "74a6e24c-11c5-45cd-b2a4-d8b4c24845ff"
      },
      "source": [
        "topic_page_url"
      ],
      "execution_count": 35,
      "outputs": [
        {
          "output_type": "execute_result",
          "data": {
            "application/vnd.google.colaboratory.intrinsic+json": {
              "type": "string"
            },
            "text/plain": [
              "'https://github.com/topics/3d'"
            ]
          },
          "metadata": {
            "tags": []
          },
          "execution_count": 35
        }
      ]
    },
    {
      "cell_type": "code",
      "metadata": {
        "id": "4ONf9SsHWBt_"
      },
      "source": [
        "response = requests.get(topic_page_url)"
      ],
      "execution_count": 36,
      "outputs": []
    },
    {
      "cell_type": "code",
      "metadata": {
        "colab": {
          "base_uri": "https://localhost:8080/"
        },
        "id": "3zhTmwwaWBmc",
        "outputId": "56cf77b2-bd82-4918-cc0e-e78c4141de35"
      },
      "source": [
        "response.status_code"
      ],
      "execution_count": 37,
      "outputs": [
        {
          "output_type": "execute_result",
          "data": {
            "text/plain": [
              "200"
            ]
          },
          "metadata": {
            "tags": []
          },
          "execution_count": 37
        }
      ]
    },
    {
      "cell_type": "code",
      "metadata": {
        "colab": {
          "base_uri": "https://localhost:8080/"
        },
        "id": "Fqkial5kWBf6",
        "outputId": "adc697c8-59de-4f73-d770-1c66a45c1cc9"
      },
      "source": [
        "len(response.text)"
      ],
      "execution_count": 38,
      "outputs": [
        {
          "output_type": "execute_result",
          "data": {
            "text/plain": [
              "613474"
            ]
          },
          "metadata": {
            "tags": []
          },
          "execution_count": 38
        }
      ]
    },
    {
      "cell_type": "code",
      "metadata": {
        "id": "jmoBg8qCWBVQ"
      },
      "source": [
        "topic_doc = BeautifulSoup(response.text, 'html.parser')"
      ],
      "execution_count": 39,
      "outputs": []
    },
    {
      "cell_type": "code",
      "metadata": {
        "id": "NuaVTyZ2YA9H"
      },
      "source": [
        "h1_selection_class= 'f3 color-text-secondary text-normal lh-condensed'\n",
        "repo_tags = topic_doc.find_all('h1',{'class': h1_selection_class})"
      ],
      "execution_count": 40,
      "outputs": []
    },
    {
      "cell_type": "code",
      "metadata": {
        "colab": {
          "base_uri": "https://localhost:8080/"
        },
        "id": "1Uhrl8yNYDVK",
        "outputId": "63905505-4f9a-4b01-f6d0-85a2b503165a"
      },
      "source": [
        "len(repo_tags)"
      ],
      "execution_count": 41,
      "outputs": [
        {
          "output_type": "execute_result",
          "data": {
            "text/plain": [
              "30"
            ]
          },
          "metadata": {
            "tags": []
          },
          "execution_count": 41
        }
      ]
    },
    {
      "cell_type": "code",
      "metadata": {
        "colab": {
          "base_uri": "https://localhost:8080/"
        },
        "id": "9F7_0_L5fFjX",
        "outputId": "65788048-90ce-42a9-c296-85b49ab513ee"
      },
      "source": [
        "repo_tags[0] # repo_tags contain username, repo_name and repo_url"
      ],
      "execution_count": 42,
      "outputs": [
        {
          "output_type": "execute_result",
          "data": {
            "text/plain": [
              "<h1 class=\"f3 color-text-secondary text-normal lh-condensed\">\n",
              "<a data-ga-click=\"Explore, go to repository owner, location:explore feed\" data-hydro-click='{\"event_type\":\"explore.click\",\"payload\":{\"click_context\":\"REPOSITORY_CARD\",\"click_target\":\"OWNER\",\"click_visual_representation\":\"REPOSITORY_OWNER_HEADING\",\"actor_id\":null,\"record_id\":97088,\"originating_url\":\"https://github.com/topics/3d\",\"user_id\":null}}' data-hydro-click-hmac=\"4bdbc49d3c05ae7f70b531fbce709a384200b0768554e0172950286a8db30940\" data-view-component=\"true\" href=\"/mrdoob\">\n",
              "            mrdoob\n",
              "</a>          /\n",
              "          <a class=\"text-bold\" data-ga-click=\"Explore, go to repository, location:explore feed\" data-hydro-click='{\"event_type\":\"explore.click\",\"payload\":{\"click_context\":\"REPOSITORY_CARD\",\"click_target\":\"REPOSITORY\",\"click_visual_representation\":\"REPOSITORY_NAME_HEADING\",\"actor_id\":null,\"record_id\":576201,\"originating_url\":\"https://github.com/topics/3d\",\"user_id\":null}}' data-hydro-click-hmac=\"517d3d5cb9d89752156923904a4238816bc9b51ab7772f3e3644ce897d8dd4e5\" data-view-component=\"true\" href=\"/mrdoob/three.js\">\n",
              "            three.js\n",
              "</a> </h1>"
            ]
          },
          "metadata": {
            "tags": []
          },
          "execution_count": 42
        }
      ]
    },
    {
      "cell_type": "code",
      "metadata": {
        "id": "9HT8t1coZKUb"
      },
      "source": [
        "a_tags = repo_tags[0].find_all ('a')"
      ],
      "execution_count": 43,
      "outputs": []
    },
    {
      "cell_type": "code",
      "metadata": {
        "colab": {
          "base_uri": "https://localhost:8080/",
          "height": 35
        },
        "id": "m-dSKwLcZjjx",
        "outputId": "c61fcde1-0ee4-4dd4-e3b1-d83f93aa4d45"
      },
      "source": [
        "a_tags [0].text.strip() # username"
      ],
      "execution_count": 44,
      "outputs": [
        {
          "output_type": "execute_result",
          "data": {
            "application/vnd.google.colaboratory.intrinsic+json": {
              "type": "string"
            },
            "text/plain": [
              "'mrdoob'"
            ]
          },
          "metadata": {
            "tags": []
          },
          "execution_count": 44
        }
      ]
    },
    {
      "cell_type": "code",
      "metadata": {
        "colab": {
          "base_uri": "https://localhost:8080/",
          "height": 35
        },
        "id": "pirEaHkLZjhS",
        "outputId": "67b23764-de80-479a-d087-268a1d88180c"
      },
      "source": [
        "a_tags[1].text.strip() # repo_name"
      ],
      "execution_count": 45,
      "outputs": [
        {
          "output_type": "execute_result",
          "data": {
            "application/vnd.google.colaboratory.intrinsic+json": {
              "type": "string"
            },
            "text/plain": [
              "'three.js'"
            ]
          },
          "metadata": {
            "tags": []
          },
          "execution_count": 45
        }
      ]
    },
    {
      "cell_type": "code",
      "metadata": {
        "colab": {
          "base_uri": "https://localhost:8080/",
          "height": 35
        },
        "id": "ry5BuxFaZjXi",
        "outputId": "59508d80-da47-4c0f-aec7-27cce193b11e"
      },
      "source": [
        "repo_url = base_url + a_tags[1]['href'] # repo_url\n",
        "repo_url"
      ],
      "execution_count": 46,
      "outputs": [
        {
          "output_type": "execute_result",
          "data": {
            "application/vnd.google.colaboratory.intrinsic+json": {
              "type": "string"
            },
            "text/plain": [
              "'https://github.com/mrdoob/three.js'"
            ]
          },
          "metadata": {
            "tags": []
          },
          "execution_count": 46
        }
      ]
    },
    {
      "cell_type": "code",
      "metadata": {
        "id": "eWNmUhlUZjVB"
      },
      "source": [
        "star_tags = topic_doc.find_all('a', {'class' : 'social-count float-none'})"
      ],
      "execution_count": 47,
      "outputs": []
    },
    {
      "cell_type": "code",
      "metadata": {
        "colab": {
          "base_uri": "https://localhost:8080/"
        },
        "id": "wN1KMsANZjSQ",
        "outputId": "b6ceafaa-c4cd-4cd0-bde2-b234dbd8f66e"
      },
      "source": [
        "len (star_tags)"
      ],
      "execution_count": 48,
      "outputs": [
        {
          "output_type": "execute_result",
          "data": {
            "text/plain": [
              "30"
            ]
          },
          "metadata": {
            "tags": []
          },
          "execution_count": 48
        }
      ]
    },
    {
      "cell_type": "code",
      "metadata": {
        "colab": {
          "base_uri": "https://localhost:8080/",
          "height": 35
        },
        "id": "TT3H9KC-ZjPw",
        "outputId": "86ba5ac5-ce81-4e64-89eb-2c7300b8c55b"
      },
      "source": [
        "star_tags[0].text.strip()"
      ],
      "execution_count": 49,
      "outputs": [
        {
          "output_type": "execute_result",
          "data": {
            "application/vnd.google.colaboratory.intrinsic+json": {
              "type": "string"
            },
            "text/plain": [
              "'71.9k'"
            ]
          },
          "metadata": {
            "tags": []
          },
          "execution_count": 49
        }
      ]
    },
    {
      "cell_type": "code",
      "metadata": {
        "id": "IR-DPMADa6ul"
      },
      "source": [
        "# function to take the star tag remove the \"k\" at the end and give it as a number\n",
        "def parse_star_count(stars_str): \n",
        "  stars_str = stars_str.strip()\n",
        "  if stars_str[-1] == 'k':\n",
        "    return int(float(stars_str[:-1])*1000)\n",
        "  return int (stars_str)  "
      ],
      "execution_count": 50,
      "outputs": []
    },
    {
      "cell_type": "code",
      "metadata": {
        "colab": {
          "base_uri": "https://localhost:8080/"
        },
        "id": "CpnoAeiwbvZw",
        "outputId": "ae3b7255-4321-41ae-de8a-eabbc221f3fc"
      },
      "source": [
        "parse_star_count(star_tags[0].text.strip()) # stars"
      ],
      "execution_count": 51,
      "outputs": [
        {
          "output_type": "execute_result",
          "data": {
            "text/plain": [
              "71900"
            ]
          },
          "metadata": {
            "tags": []
          },
          "execution_count": 51
        }
      ]
    },
    {
      "cell_type": "code",
      "metadata": {
        "id": "bSAuxcmlbvWO"
      },
      "source": [
        "\n"
      ],
      "execution_count": 51,
      "outputs": []
    },
    {
      "cell_type": "code",
      "metadata": {
        "id": "C9NlB2SjbvPf"
      },
      "source": [
        "def get_topic_page(topic_url):\n",
        "    # Download the page\n",
        "    response = requests.get_topic_url()\n",
        "    # Check for successful response\n",
        "    if response.status_code != 200:\n",
        "        raise Exception(\"Failed to load page {}\".format(topic_url))\n",
        "    # parse using Beautiful Soup\n",
        "    topic_doc = BeautifulSoup(response.text,'html.parser')\n",
        "    return topic_doc\n",
        "\n",
        "\n",
        "def get_repo_info(h1_tag,star_tag):\n",
        "    # returns all the required info about a repository \n",
        "    a_tags = h1_tag.find_all('a') \n",
        "    username = a_tags[0].text.strip()\n",
        "    repo_name = a_tags[1].text.strip()\n",
        "    stars = parse_star_count(star_tag.text.strip())\n",
        "    base_url = 'https://github.com'\n",
        "    repo_url = base_url + a_tags[1]['href']\n",
        "    return username, repo_name, stars, repo_url\n",
        "\n",
        "def get_topic_repos(topic_doc):\n",
        "    # Get h1 tags containing repo title, repo URL and username\n",
        "    h1_selection_class= 'f3 color-text-secondary text-normal lh-condensed'\n",
        "    repo_tags = topic_doc.find_all('h1', {'class': h1_selection_class})\n",
        "    # Get star tag\n",
        "    star_tags = topic_doc.find_all('a', {'class' : 'social-count float-none'})\n",
        "    # Get repo info\n",
        "    topic_repos_dict = {'username' : [],'repo_name' : [],'stars' : [],'repo_url' : [] }\n",
        "\n",
        "    for i in range(len(repo_tags)):\n",
        "        repo_info = get_repo_info(repo_tags[i],star_tags[i])\n",
        "        topic_repos_dict['username'].append(repo_info[0])\n",
        "        topic_repos_dict['repo_name'].append(repo_info[1])\n",
        "        topic_repos_dict['stars'].append(repo_info[2])\n",
        "        topic_repos_dict['repo_url'].append(repo_info[3])\n",
        "      \n",
        "    return pd.DataFrame(topic_repos_dict)"
      ],
      "execution_count": 60,
      "outputs": []
    },
    {
      "cell_type": "code",
      "metadata": {
        "colab": {
          "base_uri": "https://localhost:8080/"
        },
        "id": "Zt5ahP5pbvTC",
        "outputId": "698e3476-10b9-4795-cb5f-828d93dc6236"
      },
      "source": [
        "get_repo_info(repo_tags[0],star_tags[0])"
      ],
      "execution_count": 61,
      "outputs": [
        {
          "output_type": "execute_result",
          "data": {
            "text/plain": [
              "('mrdoob', 'three.js', 71900, 'https://github.com/mrdoob/three.js')"
            ]
          },
          "metadata": {
            "tags": []
          },
          "execution_count": 61
        }
      ]
    },
    {
      "cell_type": "code",
      "metadata": {
        "id": "XMJcBzIAbWWH"
      },
      "source": [
        "url4 = topic_urls[4]"
      ],
      "execution_count": 62,
      "outputs": []
    },
    {
      "cell_type": "code",
      "metadata": {
        "colab": {
          "base_uri": "https://localhost:8080/",
          "height": 35
        },
        "id": "I8mvo0NHl8A4",
        "outputId": "e9854d6c-ceba-424b-fadc-a4dfeb90cc19"
      },
      "source": [
        "url4"
      ],
      "execution_count": 63,
      "outputs": [
        {
          "output_type": "execute_result",
          "data": {
            "application/vnd.google.colaboratory.intrinsic+json": {
              "type": "string"
            },
            "text/plain": [
              "'https://github.com/topics/android'"
            ]
          },
          "metadata": {
            "tags": []
          },
          "execution_count": 63
        }
      ]
    },
    {
      "cell_type": "code",
      "metadata": {
        "id": "-R9vxdnhl00b",
        "colab": {
          "base_uri": "https://localhost:8080/",
          "height": 282
        },
        "outputId": "3ebe3863-a38f-4546-c24d-fef64b80c8fb"
      },
      "source": [
        "topic4_doc = get_topic_page(url4)\n"
      ],
      "execution_count": 64,
      "outputs": [
        {
          "output_type": "error",
          "ename": "AttributeError",
          "evalue": "ignored",
          "traceback": [
            "\u001b[0;31m---------------------------------------------------------------------------\u001b[0m",
            "\u001b[0;31mAttributeError\u001b[0m                            Traceback (most recent call last)",
            "\u001b[0;32m<ipython-input-64-2d634bfb9ced>\u001b[0m in \u001b[0;36m<module>\u001b[0;34m()\u001b[0m\n\u001b[0;32m----> 1\u001b[0;31m \u001b[0mtopic4_doc\u001b[0m \u001b[0;34m=\u001b[0m \u001b[0mget_topic_page\u001b[0m\u001b[0;34m(\u001b[0m\u001b[0murl4\u001b[0m\u001b[0;34m)\u001b[0m\u001b[0;34m\u001b[0m\u001b[0;34m\u001b[0m\u001b[0m\n\u001b[0m",
            "\u001b[0;32m<ipython-input-60-830493ac8fc1>\u001b[0m in \u001b[0;36mget_topic_page\u001b[0;34m(topic_url)\u001b[0m\n\u001b[1;32m      1\u001b[0m \u001b[0;32mdef\u001b[0m \u001b[0mget_topic_page\u001b[0m\u001b[0;34m(\u001b[0m\u001b[0mtopic_url\u001b[0m\u001b[0;34m)\u001b[0m\u001b[0;34m:\u001b[0m\u001b[0;34m\u001b[0m\u001b[0;34m\u001b[0m\u001b[0m\n\u001b[1;32m      2\u001b[0m     \u001b[0;31m# Download the page\u001b[0m\u001b[0;34m\u001b[0m\u001b[0;34m\u001b[0m\u001b[0;34m\u001b[0m\u001b[0m\n\u001b[0;32m----> 3\u001b[0;31m     \u001b[0mresponse\u001b[0m \u001b[0;34m=\u001b[0m \u001b[0mrequests\u001b[0m\u001b[0;34m.\u001b[0m\u001b[0mget_topic_url\u001b[0m\u001b[0;34m(\u001b[0m\u001b[0;34m)\u001b[0m\u001b[0;34m\u001b[0m\u001b[0;34m\u001b[0m\u001b[0m\n\u001b[0m\u001b[1;32m      4\u001b[0m     \u001b[0;31m# Check for successful response\u001b[0m\u001b[0;34m\u001b[0m\u001b[0;34m\u001b[0m\u001b[0;34m\u001b[0m\u001b[0m\n\u001b[1;32m      5\u001b[0m     \u001b[0;32mif\u001b[0m \u001b[0mresponse\u001b[0m\u001b[0;34m.\u001b[0m\u001b[0mstatus_code\u001b[0m \u001b[0;34m!=\u001b[0m \u001b[0;36m200\u001b[0m\u001b[0;34m:\u001b[0m\u001b[0;34m\u001b[0m\u001b[0;34m\u001b[0m\u001b[0m\n",
            "\u001b[0;31mAttributeError\u001b[0m: module 'requests' has no attribute 'get_topic_url'"
          ]
        }
      ]
    },
    {
      "cell_type": "code",
      "metadata": {
        "id": "rRRUYyzUl0so"
      },
      "source": [
        "topic4_repos = get_topic_repos(topic4_doc)\n"
      ],
      "execution_count": null,
      "outputs": []
    },
    {
      "cell_type": "code",
      "metadata": {
        "id": "0ORA0QKil0iV"
      },
      "source": [
        "topic4_repos "
      ],
      "execution_count": null,
      "outputs": []
    },
    {
      "cell_type": "code",
      "metadata": {
        "id": "cGXTfbUlkaCf"
      },
      "source": [
        "import os\n",
        "def scrape_topic(topic_url,path):\n",
        "  if os.path.exists(path):\n",
        "    print('The file {} already exists.Skipping...'.format(path))\n",
        "    return\n",
        "  topic_df = get_topic_repos(get_topic_page(topic_url))\n",
        "  topic_df.to_csv(path, index = None)"
      ],
      "execution_count": null,
      "outputs": []
    },
    {
      "cell_type": "markdown",
      "metadata": {
        "id": "WWwIsOsIGdNC"
      },
      "source": [
        "write single function\n",
        "1. Get the list of topics from the topics page\n",
        "2. Get the list of top repos from the individual topic pages\n",
        "3. for each topic, create a CSV of the top repos for the topic"
      ]
    },
    {
      "cell_type": "code",
      "metadata": {
        "id": "1iokYHVpGwUK"
      },
      "source": [
        "#1. Functions to  get the list of topics from the topics page\n",
        "\n",
        "def get_topic_titles(doc):\n",
        "    selection_class = 'f3 lh-condensed mb-0 mt-1 Link--primary'\n",
        "    topic_title_tags = doc.find_all('p',{'class' : selection_class})\n",
        "    topic_titles = []\n",
        "    for tag in topic_title_tags:\n",
        "        topic_titles.append(tag.text)\n",
        "    return topic_titles\n",
        "\n",
        "def get_topic_descs(doc):\n",
        "    desc_selector = 'f5 color-text-secondary mb-0 mt-1'\n",
        "    topic_desc_tags = doc.find_all('p',{'class':desc_selector})\n",
        "    topic_descs = []\n",
        "    for tag in topic_desc_tags:\n",
        "      topic_descs.append(tag.text.strip())\n",
        "    return topic_descs \n",
        "\n",
        "def get_topic_urls(doc):\n",
        "    link_selector = 'd-flex no-underline'\n",
        "    topic_link_tags = doc.find_all('a',{'class':link_selector})\n",
        "    topic_urls = []\n",
        "    base_url = 'https://github.com'\n",
        "    for tag in topic_link_tags:\n",
        "      topic_urls.append(base_url + tag['href'])\n",
        "    return topic_urls(doc)\n",
        "\n",
        "def scrape_topics():\n",
        "    topics_url = 'https://github.com/topics'\n",
        "    response = requests.get(topics_url)\n",
        "    if response.status_code != 200:\n",
        "        raise Exception(\"Failed to load page {}\".format(topic_url))\n",
        "    topic_dict = {'title' : get_topic_titles(doc),'description' : get_topic_descs(doc),'url' : get_topic_urls(doc)}\n",
        "    return pd.DataFrame(topic_dict)\n",
        "\n",
        "\n"
      ],
      "execution_count": null,
      "outputs": []
    },
    {
      "cell_type": "code",
      "metadata": {
        "id": "2MKl8g6n-fIu"
      },
      "source": [
        "import os\n",
        "help(os.makedirs)"
      ],
      "execution_count": null,
      "outputs": []
    },
    {
      "cell_type": "markdown",
      "metadata": {
        "id": "t25vDcYU-5zq"
      },
      "source": [
        "## 4. Create CSV file(s) with the extracted information\n",
        "- Create functions for the end-to-end process of downloading, parsing, and saving CSVs.\n",
        "- Execute the function with different inputs to create a dataset of CSV files.\n",
        "\n"
      ]
    },
    {
      "cell_type": "code",
      "metadata": {
        "id": "tXtvI7r1GwAO"
      },
      "source": [
        "def scrape_topics_repos():\n",
        "  print('scraping list of topics')\n",
        "  topics_df = scrape_topics()\n",
        "\n",
        "  os.makedirs('data',exist_ok=True)\n",
        "\n",
        "  for index,row in topics_df.iterrows():\n",
        "    print('Scraping top repositories for \"{}\"'.format(row['title']))\n",
        "    scrape_topic(row['url'], 'data/{}.csv'.format(row['title']))"
      ],
      "execution_count": null,
      "outputs": []
    },
    {
      "cell_type": "code",
      "metadata": {
        "id": "SG2uiOrCGvy-"
      },
      "source": [
        "scrape_topics_repos()"
      ],
      "execution_count": null,
      "outputs": []
    },
    {
      "cell_type": "code",
      "metadata": {
        "id": "rB6Rze0CZI_x"
      },
      "source": [
        ""
      ],
      "execution_count": null,
      "outputs": []
    },
    {
      "cell_type": "code",
      "metadata": {
        "id": "DT5aYqKITY-G"
      },
      "source": [
        ""
      ],
      "execution_count": null,
      "outputs": []
    },
    {
      "cell_type": "markdown",
      "metadata": {
        "id": "nxt4Uey-_aiH"
      },
      "source": [
        ""
      ]
    }
  ]
}